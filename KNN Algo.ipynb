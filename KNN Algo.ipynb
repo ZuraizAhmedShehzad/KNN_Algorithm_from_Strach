{
 "cells": [
  {
   "cell_type": "markdown",
   "metadata": {},
   "source": [
    "## KNN ALGORITHM (No Library Implementation)            "
   ]
  },
  {
   "cell_type": "code",
   "execution_count": null,
   "metadata": {},
   "outputs": [],
   "source": [
    "import csv\n",
    "import random\n",
    "def loadDataset(filename,split,trainingSet=[],testSet=[]):\n",
    "    with open(filename,'r') as csvfile:\n",
    "        line = csv.reader(csvfile)\n",
    "        dataset = list(line);\n",
    "        for x in range(len(dataset)-1):\n",
    "            for y in range(4):\n",
    "                dataset[x][y] = float(dataset[x][y])\n",
    "            if random.random() < split:\n",
    "                trainingSet.append(dataset[x])\n",
    "            else:\n",
    "                testSet.append(dataset[x])"
   ]
  },
  {
   "cell_type": "code",
   "execution_count": 209,
   "metadata": {},
   "outputs": [
    {
     "name": "stdout",
     "output_type": "stream",
     "text": [
      "Train: 83\n",
      "Train: 67\n"
     ]
    }
   ],
   "source": [
    "trainingSet =[]\n",
    "testSet =[]\n",
    "loadDataset('D:\\iris.data',0.66,trainingSet,testSet)\n",
    "print('Train: ' + repr(len(trainingSet)))\n",
    "print('Train: ' + repr(len(testSet)))"
   ]
  },
  {
   "cell_type": "code",
   "execution_count": 210,
   "metadata": {},
   "outputs": [],
   "source": [
    "import math\n",
    "def euclideanDistance(instance1,instance2,length):\n",
    "    distance=0\n",
    "    for x in range(length):\n",
    "        distance += pow(instance1[x]-instance2[x],2)\n",
    "    return math.sqrt(distance)\n"
   ]
  },
  {
   "cell_type": "code",
   "execution_count": 211,
   "metadata": {},
   "outputs": [],
   "source": [
    "import operator\n",
    "def getNeighbours(trainingSet,testInstance, k):\n",
    "    distances = []\n",
    "    length = len(testInstance) - 1\n",
    "    for x in range(len(trainingSet)):\n",
    "        dist = euclideanDistance(testInstance,trainingSet[x],length)\n",
    "        distances.append((trainingSet[x],dist))\n",
    "    distances.sort(key=operator.itemgetter(1))\n",
    "    neighbours=[]\n",
    "    for x in range(k):\n",
    "        neighbours.append(distances[x][0])\n",
    "    return neighbours\n",
    "        "
   ]
  },
  {
   "cell_type": "code",
   "execution_count": 212,
   "metadata": {},
   "outputs": [],
   "source": [
    "import operator\n",
    "def getResponse(neighbour):\n",
    "    classVotes ={}\n",
    "    for x in range(len(neighbour)):\n",
    "        response = neighbour[x][-1]\n",
    "        if response in classVotes:\n",
    "            classVotes[response] += 1\n",
    "        else:\n",
    "            classVotes[response] = 1\n",
    "    sortedVotes = sorted(classVotes.items(),key=operator.itemgetter(1),reverse=True)\n",
    "    return sortedVotes[0][0]"
   ]
  },
  {
   "cell_type": "code",
   "execution_count": 229,
   "metadata": {},
   "outputs": [],
   "source": [
    "def getAccuracy(testSet,predictions):\n",
    "    correct = 0\n",
    "    for x in range(len(testSet)):\n",
    "\n",
    "           if testSet[x][-1] == predictions[x]:\n",
    "                \n",
    "                correct += 1\n",
    "    return ((correct/float(len(testSet))) * 100.0)\n",
    "    \n",
    "    \n"
   ]
  },
  {
   "cell_type": "code",
   "execution_count": 230,
   "metadata": {},
   "outputs": [
    {
     "name": "stdout",
     "output_type": "stream",
     "text": [
      "66.66666666666666\n"
     ]
    }
   ],
   "source": [
    "test = [['1','1','1','a'],['2','2','2','a'],['3','3','3','b']]\n",
    "predi = ['a','a','a']\n",
    "acc= getAccuracy(test,predi)\n",
    "print(acc)"
   ]
  },
  {
   "cell_type": "code",
   "execution_count": 231,
   "metadata": {},
   "outputs": [],
   "source": [
    "def main():\n",
    "    trainingSet =[]\n",
    "    testSet = []\n",
    "    split = 0.67\n",
    "    loadDataset('D:\\iris.data',0.67,trainingSet,testSet)\n",
    "    print(\"Training Data: \"+repr(len(trainingSet)))\n",
    "    print(\"Test Data: \"+repr(len(testSet)))\n",
    "    predictions = []\n",
    "    k = 3\n",
    "   \n",
    "    for x in range(len(testSet)):\n",
    "        neighbours = getNeighbours(trainingSet,testSet[x],k)\n",
    "        result = getResponse(neighbours)\n",
    "        predictions.append(result)\n",
    "        print('> predicted=' + repr(result)+',actual='+repr(testSet[x][-1]))\n",
    "    accuracy = getAccuracy(testSet,predictions)\n",
    "    print('Accuracy: '+repr(accuracy) + '%')\n",
    "    "
   ]
  },
  {
   "cell_type": "code",
   "execution_count": 233,
   "metadata": {},
   "outputs": [
    {
     "name": "stdout",
     "output_type": "stream",
     "text": [
      "Training Data: 99\n",
      "Test Data: 51\n",
      "> predicted='Iris-setosa',actual='Iris-setosa'\n",
      "> predicted='Iris-setosa',actual='Iris-setosa'\n",
      "> predicted='Iris-setosa',actual='Iris-setosa'\n",
      "> predicted='Iris-setosa',actual='Iris-setosa'\n",
      "> predicted='Iris-setosa',actual='Iris-setosa'\n",
      "> predicted='Iris-setosa',actual='Iris-setosa'\n",
      "> predicted='Iris-setosa',actual='Iris-setosa'\n",
      "> predicted='Iris-setosa',actual='Iris-setosa'\n",
      "> predicted='Iris-setosa',actual='Iris-setosa'\n",
      "> predicted='Iris-setosa',actual='Iris-setosa'\n",
      "> predicted='Iris-setosa',actual='Iris-setosa'\n",
      "> predicted='Iris-setosa',actual='Iris-setosa'\n",
      "> predicted='Iris-setosa',actual='Iris-setosa'\n",
      "> predicted='Iris-setosa',actual='Iris-setosa'\n",
      "> predicted='Iris-setosa',actual='Iris-setosa'\n",
      "> predicted='Iris-setosa',actual='Iris-setosa'\n",
      "> predicted='Iris-setosa',actual='Iris-setosa'\n",
      "> predicted='Iris-versicolor',actual='Iris-versicolor'\n",
      "> predicted='Iris-versicolor',actual='Iris-versicolor'\n",
      "> predicted='Iris-versicolor',actual='Iris-versicolor'\n",
      "> predicted='Iris-versicolor',actual='Iris-versicolor'\n",
      "> predicted='Iris-versicolor',actual='Iris-versicolor'\n",
      "> predicted='Iris-versicolor',actual='Iris-versicolor'\n",
      "> predicted='Iris-versicolor',actual='Iris-versicolor'\n",
      "> predicted='Iris-versicolor',actual='Iris-versicolor'\n",
      "> predicted='Iris-versicolor',actual='Iris-versicolor'\n",
      "> predicted='Iris-versicolor',actual='Iris-versicolor'\n",
      "> predicted='Iris-versicolor',actual='Iris-versicolor'\n",
      "> predicted='Iris-versicolor',actual='Iris-versicolor'\n",
      "> predicted='Iris-versicolor',actual='Iris-versicolor'\n",
      "> predicted='Iris-versicolor',actual='Iris-versicolor'\n",
      "> predicted='Iris-versicolor',actual='Iris-versicolor'\n",
      "> predicted='Iris-versicolor',actual='Iris-versicolor'\n",
      "> predicted='Iris-versicolor',actual='Iris-versicolor'\n",
      "> predicted='Iris-virginica',actual='Iris-virginica'\n",
      "> predicted='Iris-virginica',actual='Iris-virginica'\n",
      "> predicted='Iris-virginica',actual='Iris-virginica'\n",
      "> predicted='Iris-virginica',actual='Iris-virginica'\n",
      "> predicted='Iris-virginica',actual='Iris-virginica'\n",
      "> predicted='Iris-versicolor',actual='Iris-virginica'\n",
      "> predicted='Iris-virginica',actual='Iris-virginica'\n",
      "> predicted='Iris-virginica',actual='Iris-virginica'\n",
      "> predicted='Iris-virginica',actual='Iris-virginica'\n",
      "> predicted='Iris-virginica',actual='Iris-virginica'\n",
      "> predicted='Iris-virginica',actual='Iris-virginica'\n",
      "> predicted='Iris-virginica',actual='Iris-virginica'\n",
      "> predicted='Iris-virginica',actual='Iris-virginica'\n",
      "> predicted='Iris-virginica',actual='Iris-virginica'\n",
      "> predicted='Iris-virginica',actual='Iris-virginica'\n",
      "> predicted='Iris-virginica',actual='Iris-virginica'\n",
      "> predicted='Iris-versicolor',actual='Iris-virginica'\n",
      "Accuracy: 96.07843137254902%\n"
     ]
    }
   ],
   "source": [
    "main()"
   ]
  }
 ],
 "metadata": {
  "kernelspec": {
   "display_name": "Python 3",
   "language": "python",
   "name": "python3"
  },
  "language_info": {
   "codemirror_mode": {
    "name": "ipython",
    "version": 3
   },
   "file_extension": ".py",
   "mimetype": "text/x-python",
   "name": "python",
   "nbconvert_exporter": "python",
   "pygments_lexer": "ipython3",
   "version": "3.7.6"
  }
 },
 "nbformat": 4,
 "nbformat_minor": 4
}
